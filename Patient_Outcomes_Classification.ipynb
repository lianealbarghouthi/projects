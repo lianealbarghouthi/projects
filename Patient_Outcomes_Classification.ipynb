{
  "nbformat": 4,
  "nbformat_minor": 0,
  "metadata": {
    "colab": {
      "name": "Patient Outcomes Classification.ipynb",
      "provenance": [],
      "collapsed_sections": [],
      "authorship_tag": "ABX9TyPlIsozpZM2hJnOmdopgful",
      "include_colab_link": true
    },
    "kernelspec": {
      "name": "python3",
      "display_name": "Python 3"
    },
    "language_info": {
      "name": "python"
    }
  },
  "cells": [
    {
      "cell_type": "markdown",
      "metadata": {
        "id": "view-in-github",
        "colab_type": "text"
      },
      "source": [
        "<a href=\"https://colab.research.google.com/github/lianealbarghouthi/projects/blob/main/Patient_Outcomes_Classification.ipynb\" target=\"_parent\"><img src=\"https://colab.research.google.com/assets/colab-badge.svg\" alt=\"Open In Colab\"/></a>"
      ]
    },
    {
      "cell_type": "code",
      "execution_count": 1,
      "metadata": {
        "colab": {
          "base_uri": "https://localhost:8080/"
        },
        "id": "GdOMSYURj_hc",
        "outputId": "22687855-77c4-4b6c-e8c5-37d5f92e42d0"
      },
      "outputs": [
        {
          "output_type": "stream",
          "name": "stderr",
          "text": [
            "/usr/local/lib/python3.7/dist-packages/statsmodels/tools/_testing.py:19: FutureWarning: pandas.util.testing is deprecated. Use the functions in the public API at pandas.testing instead.\n",
            "  import pandas.util.testing as tm\n"
          ]
        }
      ],
      "source": [
        "from scipy.stats import norm\n",
        "import pandas as pd\n",
        "import numpy as np\n",
        "import matplotlib.pyplot as plt\n",
        "import seaborn as sns\n",
        "import statsmodels.formula.api as smf"
      ]
    },
    {
      "cell_type": "code",
      "source": [
        "train = pd.read_csv(\"framingham_train.csv\")\n",
        "test = pd.read_csv('framingham_test.csv')"
      ],
      "metadata": {
        "id": "5R4CY_tpkqdi"
      },
      "execution_count": 2,
      "outputs": []
    },
    {
      "cell_type": "code",
      "source": [
        "train.head()"
      ],
      "metadata": {
        "colab": {
          "base_uri": "https://localhost:8080/",
          "height": 356
        },
        "id": "hkAqkIT7kmrn",
        "outputId": "c5782ade-935a-4ece-da0d-8c0d12b07c4d"
      },
      "execution_count": 3,
      "outputs": [
        {
          "output_type": "execute_result",
          "data": {
            "text/html": [
              "\n",
              "  <div id=\"df-4766b6a6-8d84-4ffd-803a-2e6ec7f7f3e8\">\n",
              "    <div class=\"colab-df-container\">\n",
              "      <div>\n",
              "<style scoped>\n",
              "    .dataframe tbody tr th:only-of-type {\n",
              "        vertical-align: middle;\n",
              "    }\n",
              "\n",
              "    .dataframe tbody tr th {\n",
              "        vertical-align: top;\n",
              "    }\n",
              "\n",
              "    .dataframe thead th {\n",
              "        text-align: right;\n",
              "    }\n",
              "</style>\n",
              "<table border=\"1\" class=\"dataframe\">\n",
              "  <thead>\n",
              "    <tr style=\"text-align: right;\">\n",
              "      <th></th>\n",
              "      <th>male</th>\n",
              "      <th>age</th>\n",
              "      <th>education</th>\n",
              "      <th>currentSmoker</th>\n",
              "      <th>cigsPerDay</th>\n",
              "      <th>BPMeds</th>\n",
              "      <th>prevalentStroke</th>\n",
              "      <th>prevalentHyp</th>\n",
              "      <th>diabetes</th>\n",
              "      <th>totChol</th>\n",
              "      <th>sysBP</th>\n",
              "      <th>diaBP</th>\n",
              "      <th>BMI</th>\n",
              "      <th>heartRate</th>\n",
              "      <th>glucose</th>\n",
              "      <th>TenYearCHD</th>\n",
              "    </tr>\n",
              "  </thead>\n",
              "  <tbody>\n",
              "    <tr>\n",
              "      <th>0</th>\n",
              "      <td>0</td>\n",
              "      <td>41</td>\n",
              "      <td>Some high school</td>\n",
              "      <td>1</td>\n",
              "      <td>43</td>\n",
              "      <td>0</td>\n",
              "      <td>0</td>\n",
              "      <td>1</td>\n",
              "      <td>0</td>\n",
              "      <td>306</td>\n",
              "      <td>199.0</td>\n",
              "      <td>106.0</td>\n",
              "      <td>38.75</td>\n",
              "      <td>100</td>\n",
              "      <td>75</td>\n",
              "      <td>0</td>\n",
              "    </tr>\n",
              "    <tr>\n",
              "      <th>1</th>\n",
              "      <td>0</td>\n",
              "      <td>38</td>\n",
              "      <td>High school/GED</td>\n",
              "      <td>1</td>\n",
              "      <td>15</td>\n",
              "      <td>0</td>\n",
              "      <td>0</td>\n",
              "      <td>0</td>\n",
              "      <td>0</td>\n",
              "      <td>176</td>\n",
              "      <td>110.0</td>\n",
              "      <td>80.0</td>\n",
              "      <td>24.03</td>\n",
              "      <td>100</td>\n",
              "      <td>113</td>\n",
              "      <td>0</td>\n",
              "    </tr>\n",
              "    <tr>\n",
              "      <th>2</th>\n",
              "      <td>1</td>\n",
              "      <td>42</td>\n",
              "      <td>High school/GED</td>\n",
              "      <td>1</td>\n",
              "      <td>9</td>\n",
              "      <td>0</td>\n",
              "      <td>0</td>\n",
              "      <td>0</td>\n",
              "      <td>0</td>\n",
              "      <td>205</td>\n",
              "      <td>110.0</td>\n",
              "      <td>73.0</td>\n",
              "      <td>22.40</td>\n",
              "      <td>61</td>\n",
              "      <td>66</td>\n",
              "      <td>0</td>\n",
              "    </tr>\n",
              "    <tr>\n",
              "      <th>3</th>\n",
              "      <td>0</td>\n",
              "      <td>42</td>\n",
              "      <td>High school/GED</td>\n",
              "      <td>0</td>\n",
              "      <td>0</td>\n",
              "      <td>0</td>\n",
              "      <td>0</td>\n",
              "      <td>1</td>\n",
              "      <td>0</td>\n",
              "      <td>263</td>\n",
              "      <td>150.0</td>\n",
              "      <td>88.0</td>\n",
              "      <td>23.68</td>\n",
              "      <td>96</td>\n",
              "      <td>78</td>\n",
              "      <td>0</td>\n",
              "    </tr>\n",
              "    <tr>\n",
              "      <th>4</th>\n",
              "      <td>0</td>\n",
              "      <td>53</td>\n",
              "      <td>High school/GED</td>\n",
              "      <td>0</td>\n",
              "      <td>0</td>\n",
              "      <td>0</td>\n",
              "      <td>0</td>\n",
              "      <td>1</td>\n",
              "      <td>0</td>\n",
              "      <td>272</td>\n",
              "      <td>146.0</td>\n",
              "      <td>89.0</td>\n",
              "      <td>25.50</td>\n",
              "      <td>73</td>\n",
              "      <td>67</td>\n",
              "      <td>0</td>\n",
              "    </tr>\n",
              "  </tbody>\n",
              "</table>\n",
              "</div>\n",
              "      <button class=\"colab-df-convert\" onclick=\"convertToInteractive('df-4766b6a6-8d84-4ffd-803a-2e6ec7f7f3e8')\"\n",
              "              title=\"Convert this dataframe to an interactive table.\"\n",
              "              style=\"display:none;\">\n",
              "        \n",
              "  <svg xmlns=\"http://www.w3.org/2000/svg\" height=\"24px\"viewBox=\"0 0 24 24\"\n",
              "       width=\"24px\">\n",
              "    <path d=\"M0 0h24v24H0V0z\" fill=\"none\"/>\n",
              "    <path d=\"M18.56 5.44l.94 2.06.94-2.06 2.06-.94-2.06-.94-.94-2.06-.94 2.06-2.06.94zm-11 1L8.5 8.5l.94-2.06 2.06-.94-2.06-.94L8.5 2.5l-.94 2.06-2.06.94zm10 10l.94 2.06.94-2.06 2.06-.94-2.06-.94-.94-2.06-.94 2.06-2.06.94z\"/><path d=\"M17.41 7.96l-1.37-1.37c-.4-.4-.92-.59-1.43-.59-.52 0-1.04.2-1.43.59L10.3 9.45l-7.72 7.72c-.78.78-.78 2.05 0 2.83L4 21.41c.39.39.9.59 1.41.59.51 0 1.02-.2 1.41-.59l7.78-7.78 2.81-2.81c.8-.78.8-2.07 0-2.86zM5.41 20L4 18.59l7.72-7.72 1.47 1.35L5.41 20z\"/>\n",
              "  </svg>\n",
              "      </button>\n",
              "      \n",
              "  <style>\n",
              "    .colab-df-container {\n",
              "      display:flex;\n",
              "      flex-wrap:wrap;\n",
              "      gap: 12px;\n",
              "    }\n",
              "\n",
              "    .colab-df-convert {\n",
              "      background-color: #E8F0FE;\n",
              "      border: none;\n",
              "      border-radius: 50%;\n",
              "      cursor: pointer;\n",
              "      display: none;\n",
              "      fill: #1967D2;\n",
              "      height: 32px;\n",
              "      padding: 0 0 0 0;\n",
              "      width: 32px;\n",
              "    }\n",
              "\n",
              "    .colab-df-convert:hover {\n",
              "      background-color: #E2EBFA;\n",
              "      box-shadow: 0px 1px 2px rgba(60, 64, 67, 0.3), 0px 1px 3px 1px rgba(60, 64, 67, 0.15);\n",
              "      fill: #174EA6;\n",
              "    }\n",
              "\n",
              "    [theme=dark] .colab-df-convert {\n",
              "      background-color: #3B4455;\n",
              "      fill: #D2E3FC;\n",
              "    }\n",
              "\n",
              "    [theme=dark] .colab-df-convert:hover {\n",
              "      background-color: #434B5C;\n",
              "      box-shadow: 0px 1px 3px 1px rgba(0, 0, 0, 0.15);\n",
              "      filter: drop-shadow(0px 1px 2px rgba(0, 0, 0, 0.3));\n",
              "      fill: #FFFFFF;\n",
              "    }\n",
              "  </style>\n",
              "\n",
              "      <script>\n",
              "        const buttonEl =\n",
              "          document.querySelector('#df-4766b6a6-8d84-4ffd-803a-2e6ec7f7f3e8 button.colab-df-convert');\n",
              "        buttonEl.style.display =\n",
              "          google.colab.kernel.accessAllowed ? 'block' : 'none';\n",
              "\n",
              "        async function convertToInteractive(key) {\n",
              "          const element = document.querySelector('#df-4766b6a6-8d84-4ffd-803a-2e6ec7f7f3e8');\n",
              "          const dataTable =\n",
              "            await google.colab.kernel.invokeFunction('convertToInteractive',\n",
              "                                                     [key], {});\n",
              "          if (!dataTable) return;\n",
              "\n",
              "          const docLinkHtml = 'Like what you see? Visit the ' +\n",
              "            '<a target=\"_blank\" href=https://colab.research.google.com/notebooks/data_table.ipynb>data table notebook</a>'\n",
              "            + ' to learn more about interactive tables.';\n",
              "          element.innerHTML = '';\n",
              "          dataTable['output_type'] = 'display_data';\n",
              "          await google.colab.output.renderOutput(dataTable, element);\n",
              "          const docLink = document.createElement('div');\n",
              "          docLink.innerHTML = docLinkHtml;\n",
              "          element.appendChild(docLink);\n",
              "        }\n",
              "      </script>\n",
              "    </div>\n",
              "  </div>\n",
              "  "
            ],
            "text/plain": [
              "   male  age         education  ...  heartRate  glucose  TenYearCHD\n",
              "0     0   41  Some high school  ...        100       75           0\n",
              "1     0   38   High school/GED  ...        100      113           0\n",
              "2     1   42   High school/GED  ...         61       66           0\n",
              "3     0   42   High school/GED  ...         96       78           0\n",
              "4     0   53   High school/GED  ...         73       67           0\n",
              "\n",
              "[5 rows x 16 columns]"
            ]
          },
          "metadata": {},
          "execution_count": 3
        }
      ]
    },
    {
      "cell_type": "code",
      "source": [
        "logreg = smf.logit(formula = 'TenYearCHD ~ male + age + education + currentSmoker + cigsPerDay + BPMeds + prevalentStroke + prevalentHyp + diabetes + totChol + sysBP + diaBP + BMI + heartRate + glucose',\n",
        "                   data = train).fit()\n",
        "print(logreg.summary())"
      ],
      "metadata": {
        "colab": {
          "base_uri": "https://localhost:8080/"
        },
        "id": "TWxQtuczkyFP",
        "outputId": "ccdcbfdb-d90d-4fbd-bafd-2d3cedb80060"
      },
      "execution_count": 4,
      "outputs": [
        {
          "output_type": "stream",
          "name": "stdout",
          "text": [
            "Optimization terminated successfully.\n",
            "         Current function value: 0.365281\n",
            "         Iterations 7\n",
            "                           Logit Regression Results                           \n",
            "==============================================================================\n",
            "Dep. Variable:             TenYearCHD   No. Observations:                 2560\n",
            "Model:                          Logit   Df Residuals:                     2542\n",
            "Method:                           MLE   Df Model:                           17\n",
            "Date:                Sun, 02 Jan 2022   Pseudo R-squ.:                  0.1331\n",
            "Time:                        07:18:29   Log-Likelihood:                -935.12\n",
            "converged:                       True   LL-Null:                       -1078.7\n",
            "Covariance Type:            nonrobust   LLR p-value:                 5.181e-51\n",
            "===============================================================================================================\n",
            "                                                  coef    std err          z      P>|z|      [0.025      0.975]\n",
            "---------------------------------------------------------------------------------------------------------------\n",
            "Intercept                                      -9.2740      0.882    -10.516      0.000     -11.002      -7.546\n",
            "education[T.High school/GED]                   -0.1053      0.217     -0.485      0.628      -0.531       0.321\n",
            "education[T.Some college/vocational school]    -0.1025      0.241     -0.425      0.671      -0.575       0.370\n",
            "education[T.Some high school]                   0.0610      0.202      0.302      0.762      -0.334       0.456\n",
            "male                                            0.5621      0.134      4.189      0.000       0.299       0.825\n",
            "age                                             0.0689      0.008      8.303      0.000       0.053       0.085\n",
            "currentSmoker                                   0.1539      0.189      0.816      0.415      -0.216       0.524\n",
            "cigsPerDay                                      0.0155      0.007      2.077      0.038       0.001       0.030\n",
            "BPMeds                                          0.1528      0.281      0.544      0.587      -0.398       0.704\n",
            "prevalentStroke                                 0.8209      0.570      1.441      0.150      -0.296       1.938\n",
            "prevalentHyp                                    0.2075      0.167      1.246      0.213      -0.119       0.534\n",
            "diabetes                                       -0.2975      0.395     -0.753      0.452      -1.072       0.477\n",
            "totChol                                         0.0020      0.001      1.445      0.148      -0.001       0.005\n",
            "sysBP                                           0.0181      0.005      3.900      0.000       0.009       0.027\n",
            "diaBP                                          -0.0045      0.008     -0.584      0.560      -0.020       0.011\n",
            "BMI                                             0.0136      0.016      0.867      0.386      -0.017       0.044\n",
            "heartRate                                      -0.0046      0.005     -0.888      0.374      -0.015       0.006\n",
            "glucose                                         0.0096      0.003      3.439      0.001       0.004       0.015\n",
            "===============================================================================================================\n"
          ]
        }
      ]
    },
    {
      "cell_type": "code",
      "source": [
        "y_test = test['TenYearCHD']"
      ],
      "metadata": {
        "id": "_bnnBQ5XkzYa"
      },
      "execution_count": 5,
      "outputs": []
    },
    {
      "cell_type": "code",
      "source": [
        "y_prob = logreg.predict(test)\n",
        "y_prob"
      ],
      "metadata": {
        "colab": {
          "base_uri": "https://localhost:8080/"
        },
        "id": "mFPlC3twpS4I",
        "outputId": "ba3e7c7e-b6e5-4195-bbf8-b2cb5a9dc8c4"
      },
      "execution_count": 6,
      "outputs": [
        {
          "output_type": "execute_result",
          "data": {
            "text/plain": [
              "0       0.126993\n",
              "1       0.254170\n",
              "2       0.028517\n",
              "3       0.025976\n",
              "4       0.113625\n",
              "          ...   \n",
              "1093    0.301143\n",
              "1094    0.141394\n",
              "1095    0.082371\n",
              "1096    0.228751\n",
              "1097    0.088837\n",
              "Length: 1098, dtype: float64"
            ]
          },
          "metadata": {},
          "execution_count": 6
        }
      ]
    },
    {
      "cell_type": "code",
      "source": [
        "y_pred = pd.Series([1 if x > 0.126 else 0 for x in y_prob], index=y_prob.index)"
      ],
      "metadata": {
        "id": "35_I-uqvpUC6"
      },
      "execution_count": 7,
      "outputs": []
    },
    {
      "cell_type": "code",
      "source": [
        "from sklearn.metrics import confusion_matrix"
      ],
      "metadata": {
        "id": "jQAAdtYlpVQp"
      },
      "execution_count": 8,
      "outputs": []
    },
    {
      "cell_type": "code",
      "source": [
        "cm = confusion_matrix(y_test, y_pred)\n",
        "print (\"Confusion Matrix : \\n\", cm) "
      ],
      "metadata": {
        "colab": {
          "base_uri": "https://localhost:8080/"
        },
        "id": "Ckj8W0NXpWeL",
        "outputId": "e345657e-1b62-41b1-8347-81bcb52ad9fc"
      },
      "execution_count": 9,
      "outputs": [
        {
          "output_type": "stream",
          "name": "stdout",
          "text": [
            "Confusion Matrix : \n",
            " [[569 354]\n",
            " [ 56 119]]\n"
          ]
        }
      ]
    },
    {
      "cell_type": "code",
      "source": [
        "# Accuracy\n",
        "(cm.ravel()[0]+cm.ravel()[3])/sum(cm.ravel()) "
      ],
      "metadata": {
        "colab": {
          "base_uri": "https://localhost:8080/"
        },
        "id": "VQOqI6CKpXwT",
        "outputId": "a110d8a7-cc6b-4359-9b16-52e70b4d607a"
      },
      "execution_count": 10,
      "outputs": [
        {
          "output_type": "execute_result",
          "data": {
            "text/plain": [
              "0.6265938069216758"
            ]
          },
          "metadata": {},
          "execution_count": 10
        }
      ]
    },
    {
      "cell_type": "code",
      "source": [
        "#TPR = TP/TP + FN, FPR = FP / TN + FP, TNR = TN / (TN + FP), FNR = FN / (FN + TP)\n",
        "TPR = 119 / (119 + 56) \n",
        "FPR = 354 / (354 + 569) \n",
        "TPR, FPR"
      ],
      "metadata": {
        "colab": {
          "base_uri": "https://localhost:8080/"
        },
        "id": "sJv9mh6spZ0J",
        "outputId": "df5d2b22-6747-4b67-e066-d175bf6e554a"
      },
      "execution_count": 11,
      "outputs": [
        {
          "output_type": "execute_result",
          "data": {
            "text/plain": [
              "(0.68, 0.38353196099674974)"
            ]
          },
          "metadata": {},
          "execution_count": 11
        }
      ]
    },
    {
      "cell_type": "markdown",
      "source": [
        "The accuracy is 0.627. The TPR is 0.68 and the FPR is 0.38, as indicated by the calculations above. The TPR gives us an indication of the actual positive results in our data, i.e., the actual number of people who were predicted to get CHD and actually got CHD. Here, we see that our model's probability of generating TPRs is 0.68, and for FPRs it is 0.38. The FPR is the number of people who were predicted to get CHD but did not get CHD, so the prediction was incorrect in their case.\n",
        "\n",
        "Regarding accuracy, accuracy is the proportion of true positives and true negatives, which are correctly predicted values, over the total number of positives and negatives assigned (i.e. the total number in the test set)."
      ],
      "metadata": {
        "id": "Z3yY1uz8pffA"
      }
    },
    {
      "cell_type": "code",
      "source": [
        "y_pred_baseline = pd.Series([0 for x in y_prob], index=y_prob.index)"
      ],
      "metadata": {
        "id": "6eTRjp0fpcJj"
      },
      "execution_count": 12,
      "outputs": []
    },
    {
      "cell_type": "code",
      "source": [
        "cm_baseline = confusion_matrix(y_test, y_pred_baseline)\n",
        "print (\"Confusion Matrix : \\n\", cm_baseline) "
      ],
      "metadata": {
        "colab": {
          "base_uri": "https://localhost:8080/"
        },
        "id": "IWzlSz9zphMU",
        "outputId": "8971f301-c75d-497c-af40-5070ecd1fcf8"
      },
      "execution_count": 13,
      "outputs": [
        {
          "output_type": "stream",
          "name": "stdout",
          "text": [
            "Confusion Matrix : \n",
            " [[923   0]\n",
            " [175   0]]\n"
          ]
        }
      ]
    },
    {
      "cell_type": "code",
      "source": [
        "# Baseline Accuracy\n",
        "(cm.ravel()[0]+cm.ravel()[3])/sum(cm.ravel()) "
      ],
      "metadata": {
        "colab": {
          "base_uri": "https://localhost:8080/"
        },
        "id": "GVV_HafypihN",
        "outputId": "6210a673-b3a5-4690-de20-301d9fb0d5b1"
      },
      "execution_count": 14,
      "outputs": [
        {
          "output_type": "execute_result",
          "data": {
            "text/plain": [
              "0.6265938069216758"
            ]
          },
          "metadata": {},
          "execution_count": 14
        }
      ]
    },
    {
      "cell_type": "code",
      "source": [
        "TPR_baseline = 0 / (0 + 56) \n",
        "FPR_baseline = 0 / (569 + 0) \n",
        "TPR_baseline, FPR_baseline"
      ],
      "metadata": {
        "colab": {
          "base_uri": "https://localhost:8080/"
        },
        "id": "TCMkbHb9pjxC",
        "outputId": "7f36f053-ae26-4dfd-9dac-bc2023b7d015"
      },
      "execution_count": 15,
      "outputs": [
        {
          "output_type": "execute_result",
          "data": {
            "text/plain": [
              "(0.0, 0.0)"
            ]
          },
          "metadata": {},
          "execution_count": 15
        }
      ]
    },
    {
      "cell_type": "code",
      "source": [
        "from sklearn.metrics import roc_curve, auc\n",
        "\n",
        "fpr, tpr, _ = roc_curve(y_test, y_prob)\n",
        "roc_auc = auc(fpr, tpr)\n",
        "\n",
        "plt.figure(figsize=(8, 6))\n",
        "plt.title('ROC Curve', fontsize=18)\n",
        "plt.xlabel('FPR', fontsize=16)\n",
        "plt.ylabel('TPR', fontsize=16)\n",
        "plt.xlim([-0.01, 1.00])\n",
        "plt.ylim([-0.01, 1.01])\n",
        "plt.plot(fpr, tpr, lw=3, label='Logistic Regression (area = {:0.2f})'.format(roc_auc))\n",
        "plt.plot([0, 1], [0, 1], color='navy', lw=3, linestyle='--', label='Naive Baseline (area = 0.50)')\n",
        "plt.legend(loc='lower right', fontsize=14)\n",
        "plt.show()"
      ],
      "metadata": {
        "colab": {
          "base_uri": "https://localhost:8080/",
          "height": 413
        },
        "id": "gXPrxo06pl_b",
        "outputId": "1516e909-f070-46c8-d810-7b703ba06156"
      },
      "execution_count": 16,
      "outputs": [
        {
          "output_type": "display_data",
          "data": {
            "image/png": "[encoded data removed]",
            "text/plain": [
              "<Figure size 576x432 with 1 Axes>"
            ]
          },
          "metadata": {
            "needs_background": "light"
          }
        }
      ]
    },
    {
      "cell_type": "markdown",
      "source": [
        "As shown in the plot above, the AUC is approximately 0.70. We want ROC curves that achieve high TPR and low FPR, which corresponds to a higher AUC. One interesting observation from our curve is that our AUC is 0.70, which indicates that our model has a probability of 0.7 of of correctly differentiating between a randomly selected positive observation (person with CHD) and a randomly selected negative observation (person without CHD). Whether this is considered a good probability might be dependent on the stakeholder, but this is interesting because it indicates that our model is relatively leaning towards accurate.\n",
        "\n",
        "The ROC curve is helpful to decision-makers because it captures the trade-off between the FPR and TPR, which is generally important for considering the accuracy and specificity of our model. A decision-maker studying the medication in question and other medications for CHD might run similar logistic regression models that differ in input variables and compare the ROC curves to determine which model achieves a 'better' trade-off of a high TPR and low FPR, i.e. which model leads to an ROC curve with a higher AUC. Doing so might give decision-makers an idea of which patient combination of variables/characteristics are most important in maximizing this trade-off and improving their own studies/observations on which patients should or shouldn't receive CHD medication."
      ],
      "metadata": {
        "id": "_W0bSOu0psyv"
      }
    },
    {
      "cell_type": "code",
      "source": [
        ""
      ],
      "metadata": {
        "id": "j8BqCHE3ptIK"
      },
      "execution_count": 16,
      "outputs": []
    }
  ]
}
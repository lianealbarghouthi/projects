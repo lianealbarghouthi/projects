{
 "cells": [
  {
   "cell_type": "code",
   "execution_count": 1,
   "id": "151cd2ce",
   "metadata": {},
   "outputs": [],
   "source": [
    "from scipy.stats import norm\n",
    "import pandas as pd\n",
    "import numpy as np\n",
    "import matplotlib.pyplot as plt\n",
    "import seaborn as sns"
   ]
  },
  {
   "cell_type": "markdown",
   "id": "90734145",
   "metadata": {},
   "source": [
    "<h2>1c, pdf calculations</h2>"
   ]
  },
  {
   "cell_type": "code",
   "execution_count": 2,
   "id": "9e21cdec",
   "metadata": {},
   "outputs": [
    {
     "data": {
      "text/plain": [
       "0.07528435803870111"
      ]
     },
     "execution_count": 2,
     "metadata": {},
     "output_type": "execute_result"
    }
   ],
   "source": [
    "norm.pdf(30, 33, 4) #for problem 1c"
   ]
  },
  {
   "cell_type": "code",
   "execution_count": 3,
   "id": "498677f2",
   "metadata": {},
   "outputs": [
    {
     "data": {
      "text/plain": [
       "0.032379398916472936"
      ]
     },
     "execution_count": 3,
     "metadata": {},
     "output_type": "execute_result"
    }
   ],
   "source": [
    "norm.pdf(30, 24, 4) #for problem 1c"
   ]
  },
  {
   "cell_type": "markdown",
   "id": "92cdb0bb",
   "metadata": {},
   "source": [
    "<h2>Problem 2</h2>"
   ]
  },
  {
   "cell_type": "code",
   "execution_count": 4,
   "id": "42b04434",
   "metadata": {},
   "outputs": [],
   "source": [
    "train = pd.read_csv(\"framingham_train.csv\")\n",
    "test = pd.read_csv('framingham_test.csv')"
   ]
  },
  {
   "cell_type": "code",
   "execution_count": 5,
   "id": "88dcaed0",
   "metadata": {},
   "outputs": [],
   "source": [
    "import statsmodels.formula.api as smf"
   ]
  },
  {
   "cell_type": "code",
   "execution_count": 6,
   "id": "72217a90",
   "metadata": {},
   "outputs": [
    {
     "name": "stdout",
     "output_type": "stream",
     "text": [
      "Optimization terminated successfully.\n",
      "         Current function value: 0.365281\n",
      "         Iterations 7\n",
      "                           Logit Regression Results                           \n",
      "==============================================================================\n",
      "Dep. Variable:             TenYearCHD   No. Observations:                 2560\n",
      "Model:                          Logit   Df Residuals:                     2542\n",
      "Method:                           MLE   Df Model:                           17\n",
      "Date:                Tue, 05 Oct 2021   Pseudo R-squ.:                  0.1331\n",
      "Time:                        23:46:07   Log-Likelihood:                -935.12\n",
      "converged:                       True   LL-Null:                       -1078.7\n",
      "Covariance Type:            nonrobust   LLR p-value:                 5.181e-51\n",
      "===============================================================================================================\n",
      "                                                  coef    std err          z      P>|z|      [0.025      0.975]\n",
      "---------------------------------------------------------------------------------------------------------------\n",
      "Intercept                                      -9.2740      0.882    -10.516      0.000     -11.002      -7.546\n",
      "education[T.High school/GED]                   -0.1053      0.217     -0.485      0.628      -0.531       0.321\n",
      "education[T.Some college/vocational school]    -0.1025      0.241     -0.425      0.671      -0.575       0.370\n",
      "education[T.Some high school]                   0.0610      0.202      0.302      0.762      -0.334       0.456\n",
      "male                                            0.5621      0.134      4.189      0.000       0.299       0.825\n",
      "age                                             0.0689      0.008      8.303      0.000       0.053       0.085\n",
      "currentSmoker                                   0.1539      0.189      0.816      0.415      -0.216       0.524\n",
      "cigsPerDay                                      0.0155      0.007      2.077      0.038       0.001       0.030\n",
      "BPMeds                                          0.1528      0.281      0.544      0.587      -0.398       0.704\n",
      "prevalentStroke                                 0.8209      0.570      1.441      0.150      -0.296       1.938\n",
      "prevalentHyp                                    0.2075      0.167      1.246      0.213      -0.119       0.534\n",
      "diabetes                                       -0.2975      0.395     -0.753      0.452      -1.072       0.477\n",
      "totChol                                         0.0020      0.001      1.445      0.148      -0.001       0.005\n",
      "sysBP                                           0.0181      0.005      3.900      0.000       0.009       0.027\n",
      "diaBP                                          -0.0045      0.008     -0.584      0.560      -0.020       0.011\n",
      "BMI                                             0.0136      0.016      0.867      0.386      -0.017       0.044\n",
      "heartRate                                      -0.0046      0.005     -0.888      0.374      -0.015       0.006\n",
      "glucose                                         0.0096      0.003      3.439      0.001       0.004       0.015\n",
      "===============================================================================================================\n"
     ]
    }
   ],
   "source": [
    "logreg = smf.logit(formula = 'TenYearCHD ~ male + age + education + currentSmoker + cigsPerDay + BPMeds + prevalentStroke + prevalentHyp + diabetes + totChol + sysBP + diaBP + BMI + heartRate + glucose',\n",
    "                   data = train).fit()\n",
    "print(logreg.summary())"
   ]
  },
  {
   "cell_type": "markdown",
   "id": "3f916409",
   "metadata": {},
   "source": [
    "<h2>2a, part 1</h2>\n",
    "\n",
    "Let A = -9.2740 + male(0.5621) + age(0.0689) + currentSmoker(0.1539) + cigsPerDay(0.0155) + BPMeds(0.1528) + prevalentStroke(0.8209) + prevalentHyP(0.2075) - diabetes(0.2975) + totChol(0.0020) + sysBP(0.0181) - diaBP(0.0045) + BMI(0.0136) - heartRate(0.0046) + glucose(0.0096)\n",
    "\n",
    "Probability(CHD = 1, given A) = 1 / (1 + exp(-A))\n",
    "\n"
   ]
  },
  {
   "cell_type": "markdown",
   "id": "a0d1e582",
   "metadata": {},
   "source": [
    "<h2>2a, part 2</h2>\n",
    "\n",
    "Using a p-value of 0.05, the most important risk factors in our model are: male, age, cigsPerDay, sysBP, glucose. If we look at age specifically, for every one year increase in age, our predicted odds of developing CHD increases by e^0.0689. "
   ]
  },
  {
   "cell_type": "code",
   "execution_count": 7,
   "id": "46274a26",
   "metadata": {},
   "outputs": [],
   "source": [
    "y_test = test['TenYearCHD']"
   ]
  },
  {
   "cell_type": "code",
   "execution_count": 8,
   "id": "d779bd09",
   "metadata": {},
   "outputs": [
    {
     "data": {
      "text/plain": [
       "0       0.126993\n",
       "1       0.254170\n",
       "2       0.028517\n",
       "3       0.025976\n",
       "4       0.113625\n",
       "          ...   \n",
       "1093    0.301143\n",
       "1094    0.141394\n",
       "1095    0.082371\n",
       "1096    0.228751\n",
       "1097    0.088837\n",
       "Length: 1098, dtype: float64"
      ]
     },
     "execution_count": 8,
     "metadata": {},
     "output_type": "execute_result"
    }
   ],
   "source": [
    "y_prob = logreg.predict(test)\n",
    "y_prob"
   ]
  },
  {
   "cell_type": "code",
   "execution_count": 9,
   "id": "42de1aab",
   "metadata": {},
   "outputs": [],
   "source": [
    "y_pred = pd.Series([1 if x > 0.126 else 0 for x in y_prob], index=y_prob.index)"
   ]
  },
  {
   "cell_type": "code",
   "execution_count": 10,
   "id": "64ba4713",
   "metadata": {},
   "outputs": [],
   "source": [
    "from sklearn.metrics import confusion_matrix"
   ]
  },
  {
   "cell_type": "code",
   "execution_count": 11,
   "id": "b9aacfb7",
   "metadata": {},
   "outputs": [
    {
     "name": "stdout",
     "output_type": "stream",
     "text": [
      "Confusion Matrix : \n",
      " [[569 354]\n",
      " [ 56 119]]\n"
     ]
    }
   ],
   "source": [
    "cm = confusion_matrix(y_test, y_pred)\n",
    "print (\"Confusion Matrix : \\n\", cm) "
   ]
  },
  {
   "cell_type": "code",
   "execution_count": 12,
   "id": "5e0dfdc6",
   "metadata": {},
   "outputs": [
    {
     "data": {
      "text/plain": [
       "0.6265938069216758"
      ]
     },
     "execution_count": 12,
     "metadata": {},
     "output_type": "execute_result"
    }
   ],
   "source": [
    "# Accuracy\n",
    "(cm.ravel()[0]+cm.ravel()[3])/sum(cm.ravel())  # T/total = (TP+TN)/total"
   ]
  },
  {
   "cell_type": "code",
   "execution_count": 13,
   "id": "9e615b22",
   "metadata": {},
   "outputs": [
    {
     "data": {
      "text/plain": [
       "(0.68, 0.38353196099674974)"
      ]
     },
     "execution_count": 13,
     "metadata": {},
     "output_type": "execute_result"
    }
   ],
   "source": [
    "#TPR = TP/TP + FN, FPR = FP / TN + FP, TNR = TN / (TN + FP), FNR = FN / (FN + TP)\n",
    "TPR = 119 / (119 + 56) \n",
    "FPR = 354 / (354 + 569) \n",
    "TPR, FPR"
   ]
  },
  {
   "cell_type": "markdown",
   "id": "4f00f93a",
   "metadata": {},
   "source": [
    "<h2>2a, part 4</h2>\n",
    "\n",
    "The accuracy is 0.627. The TPR is 0.68 and the FPR is 0.38, as indicated by the calculations above. The TPR gives us an indication of the actual positive results in our data, i.e., the actual number of people who were predicted to get CHD and actually got CHD. Here, we see that our model's probability of generating TPRs is 0.68, and for FPRs it is 0.38. The FPR is the number of people who were predicted to get CHD but did not get CHD, so the prediction was incorrect in their case.\n",
    "\n",
    "Regarding accuracy, accuracy is the proportion of true positives and true negatives, which are correctly predicted values, over the total number of positives and negatives assigned (i.e. the total number in the test set)."
   ]
  },
  {
   "cell_type": "markdown",
   "id": "6fab9d88",
   "metadata": {},
   "source": [
    "<h2>2a, part 6</h2>"
   ]
  },
  {
   "cell_type": "code",
   "execution_count": 14,
   "id": "2dfc2a1a",
   "metadata": {},
   "outputs": [],
   "source": [
    "y_pred_baseline = pd.Series([0 for x in y_prob], index=y_prob.index)"
   ]
  },
  {
   "cell_type": "code",
   "execution_count": 15,
   "id": "dd7e0a46",
   "metadata": {},
   "outputs": [
    {
     "name": "stdout",
     "output_type": "stream",
     "text": [
      "Confusion Matrix : \n",
      " [[923   0]\n",
      " [175   0]]\n"
     ]
    }
   ],
   "source": [
    "cm_baseline = confusion_matrix(y_test, y_pred_baseline)\n",
    "print (\"Confusion Matrix : \\n\", cm_baseline) "
   ]
  },
  {
   "cell_type": "code",
   "execution_count": 16,
   "id": "56ad2ad0",
   "metadata": {},
   "outputs": [
    {
     "data": {
      "text/plain": [
       "0.6265938069216758"
      ]
     },
     "execution_count": 16,
     "metadata": {},
     "output_type": "execute_result"
    }
   ],
   "source": [
    "# Baseline Accuracy\n",
    "(cm.ravel()[0]+cm.ravel()[3])/sum(cm.ravel())  # T/total = (TP+TN)/total"
   ]
  },
  {
   "cell_type": "code",
   "execution_count": 17,
   "id": "f2451a54",
   "metadata": {},
   "outputs": [
    {
     "data": {
      "text/plain": [
       "(0.0, 0.0)"
      ]
     },
     "execution_count": 17,
     "metadata": {},
     "output_type": "execute_result"
    }
   ],
   "source": [
    "TPR_baseline = 0 / (0 + 56) \n",
    "FPR_baseline = 0 / (569 + 0) \n",
    "TPR_baseline, FPR_baseline"
   ]
  },
  {
   "cell_type": "code",
   "execution_count": 18,
   "id": "3babfbe8",
   "metadata": {},
   "outputs": [
    {
     "data": {
      "text/plain": [
       "111566.48451730418"
      ]
     },
     "execution_count": 18,
     "metadata": {},
     "output_type": "execute_result"
    }
   ],
   "source": [
    "#Economic cost per patient based on baseline, in this case the calculation is FN * 700000 / 1098\n",
    "economic_cost = (175 * 700000) / 1098\n",
    "economic_cost"
   ]
  },
  {
   "cell_type": "markdown",
   "id": "c27564f0",
   "metadata": {},
   "source": [
    "<h2>2a, part 7</h2>"
   ]
  },
  {
   "cell_type": "code",
   "execution_count": 19,
   "id": "5944e410",
   "metadata": {},
   "outputs": [
    {
     "data": {
      "text/plain": [
       "0.13727615722302594"
      ]
     },
     "execution_count": 19,
     "metadata": {},
     "output_type": "execute_result"
    }
   ],
   "source": [
    "#2a part 7\n",
    "male = 0\n",
    "age = 45\n",
    "currentSmoker = 1\n",
    "cigsPerDay = 9\n",
    "BPMeds = 1\n",
    "prevStroke = 1\n",
    "prevHyp = 0\n",
    "diabetes = 1\n",
    "totChol = 220\n",
    "sysBP = 140\n",
    "diaBP = 100\n",
    "BMI = 33\n",
    "heartRate = 69\n",
    "glucose = 74\n",
    "calculation = -9.274 + (0.0689 * age) + 0.1539 + (0.0155*cigsPerDay) + 0.1528 + 0.8209 - 0.2975 + (0.0020 * totChol) + (0.0181 * sysBP) - (0.0045 * diaBP) + (0.0136 * BMI) - (0.0046*heartRate) + (0.0096 * glucose) \n",
    "patient_prob = 1 / (1 + np.exp(-calculation))\n",
    "patient_prob"
   ]
  },
  {
   "cell_type": "markdown",
   "id": "4e1b10a6",
   "metadata": {},
   "source": [
    "<h2>2a, part 7 explanation</h2>\n",
    "\n",
    "Based on our p threshold, which was 0.126, a physician should prescribe prevenative medication for this patient. Since the probability for this patient to get CHD is 0.137, which is greater than our p threshold of 0.126, our model will predict that this patient will get CHD, and thus prevenative medication should be prescribed."
   ]
  },
  {
   "cell_type": "markdown",
   "id": "e1d72d7f",
   "metadata": {},
   "source": [
    "<h2>2b</h2>\n"
   ]
  },
  {
   "cell_type": "code",
   "execution_count": 20,
   "id": "9267bc8c",
   "metadata": {},
   "outputs": [
    {
     "data": {
      "image/png": "[encoded data removed]",
      "text/plain": [
       "<Figure size 576x432 with 1 Axes>"
      ]
     },
     "metadata": {
      "needs_background": "light"
     },
     "output_type": "display_data"
    }
   ],
   "source": [
    "from sklearn.metrics import roc_curve, auc\n",
    "\n",
    "fpr, tpr, _ = roc_curve(y_test, y_prob)\n",
    "roc_auc = auc(fpr, tpr)\n",
    "\n",
    "plt.figure(figsize=(8, 6))\n",
    "plt.title('ROC Curve', fontsize=18)\n",
    "plt.xlabel('FPR', fontsize=16)\n",
    "plt.ylabel('TPR', fontsize=16)\n",
    "plt.xlim([-0.01, 1.00])\n",
    "plt.ylim([-0.01, 1.01])\n",
    "plt.plot(fpr, tpr, lw=3, label='Logistic Regression (area = {:0.2f})'.format(roc_auc))\n",
    "plt.plot([0, 1], [0, 1], color='navy', lw=3, linestyle='--', label='Naive Baseline (area = 0.50)')\n",
    "plt.legend(loc='lower right', fontsize=14)\n",
    "plt.show()"
   ]
  },
  {
   "cell_type": "markdown",
   "id": "1f6b8c1d",
   "metadata": {},
   "source": [
    "As shown in the plot above, the AUC is approximately 0.70. We want ROC curves that achieve high TPR and low FPR, which corresponds to a higher AUC. One interesting observation from our curve is that our AUC is 0.70, which indicates that our model has a probability of 0.7 of of correctly differentiating between a randomly selected positive observation (person with CHD) and a randomly selected negative observation (person without CHD). Whether this is considered a good probability might be dependent on the stakeholder, but this is interesting because it indicates that our model is relatively leaning towards accurate.\n",
    "\n",
    "The ROC curve is helpful to decision-makers because it captures the trade-off between the FPR and TPR, which is generally important for considering the accuracy and specificity of our model. A decision-maker studying the medication in question and other medications for CHD might run similar logistic regression models that differ in input variables and compare the ROC curves to determine which model achieves a 'better' trade-off of a high TPR and low FPR, i.e. which model leads to an ROC curve with a higher AUC. Doing so might give decision-makers an idea of which patient combination of variables/characteristics are most important in maximizing this trade-off and improving their own studies/observations on which patients should or shouldn't receive CHD medication. "
   ]
  },
  {
   "cell_type": "markdown",
   "id": "079752e4",
   "metadata": {},
   "source": [
    "<h2>2d</h2>"
   ]
  },
  {
   "cell_type": "markdown",
   "id": "f317303b",
   "metadata": {},
   "source": [
    "It could be argued that the co-payment costs described and analyzed in part 2c are an ethical concern. If we set a co-payment, then there is an 'incentive' for some patients to forego the treatment. However, this co-payment cost might force lower-income patients to forego the treatment. Thus, an additional factor to choosing to forego the treatment is socioeconomic status. Removing this co-payment or developing a different measure that takes into consideration socioeconomic status for patients might address this concern and be more fair towards patients without financial means to pay out-of-pocket costs."
   ]
  },
  {
   "cell_type": "code",
   "execution_count": null,
   "id": "01f17ad5",
   "metadata": {},
   "outputs": [],
   "source": []
  }
 ],
 "metadata": {
  "kernelspec": {
   "display_name": "Python 3 (ipykernel)",
   "language": "python",
   "name": "python3"
  },
  "language_info": {
   "codemirror_mode": {
    "name": "ipython",
    "version": 3
   },
   "file_extension": ".py",
   "mimetype": "text/x-python",
   "name": "python",
   "nbconvert_exporter": "python",
   "pygments_lexer": "ipython3",
   "version": "3.9.7"
  }
 },
 "nbformat": 4,
 "nbformat_minor": 5
}

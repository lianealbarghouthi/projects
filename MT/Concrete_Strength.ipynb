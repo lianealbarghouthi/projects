{
 "cells": [
  {
   "cell_type": "code",
   "execution_count": 7,
   "id": "0a414af8",
   "metadata": {},
   "outputs": [],
   "source": [
    "import pandas as pd\n",
    "import numpy as np\n",
    "import statsmodels.api as sm\n",
    "import statsmodels.formula.api as smf"
   ]
  },
  {
   "cell_type": "code",
   "execution_count": 8,
   "id": "ce4d82f2",
   "metadata": {},
   "outputs": [],
   "source": [
    "concrete_train = pd.read_csv('concrete_train.csv')\n",
    "concrete_test = pd.read_csv('concrete_test.csv')"
   ]
  },
  {
   "cell_type": "code",
   "execution_count": 9,
   "id": "6caa48e2",
   "metadata": {},
   "outputs": [
    {
     "data": {
      "text/html": [
       "<div>\n",
       "<style scoped>\n",
       "    .dataframe tbody tr th:only-of-type {\n",
       "        vertical-align: middle;\n",
       "    }\n",
       "\n",
       "    .dataframe tbody tr th {\n",
       "        vertical-align: top;\n",
       "    }\n",
       "\n",
       "    .dataframe thead th {\n",
       "        text-align: right;\n",
       "    }\n",
       "</style>\n",
       "<table border=\"1\" class=\"dataframe\">\n",
       "  <thead>\n",
       "    <tr style=\"text-align: right;\">\n",
       "      <th></th>\n",
       "      <th>Cement</th>\n",
       "      <th>Blast_Furnace_Slag</th>\n",
       "      <th>Fly_Ash</th>\n",
       "      <th>Water</th>\n",
       "      <th>Superplasticizer</th>\n",
       "      <th>Coarse_Aggregate</th>\n",
       "      <th>Fine_Aggregate</th>\n",
       "      <th>Age</th>\n",
       "      <th>Water_Cement_Ratio</th>\n",
       "      <th>Strength</th>\n",
       "    </tr>\n",
       "  </thead>\n",
       "  <tbody>\n",
       "    <tr>\n",
       "      <th>0</th>\n",
       "      <td>251.4</td>\n",
       "      <td>0.0</td>\n",
       "      <td>118.3</td>\n",
       "      <td>188.5</td>\n",
       "      <td>6.4</td>\n",
       "      <td>1028.4</td>\n",
       "      <td>757.7</td>\n",
       "      <td>56</td>\n",
       "      <td>0.749801</td>\n",
       "      <td>36.64</td>\n",
       "    </tr>\n",
       "    <tr>\n",
       "      <th>1</th>\n",
       "      <td>339.0</td>\n",
       "      <td>0.0</td>\n",
       "      <td>0.0</td>\n",
       "      <td>197.0</td>\n",
       "      <td>0.0</td>\n",
       "      <td>968.0</td>\n",
       "      <td>781.0</td>\n",
       "      <td>7</td>\n",
       "      <td>0.581121</td>\n",
       "      <td>20.97</td>\n",
       "    </tr>\n",
       "    <tr>\n",
       "      <th>2</th>\n",
       "      <td>250.0</td>\n",
       "      <td>0.0</td>\n",
       "      <td>95.7</td>\n",
       "      <td>187.4</td>\n",
       "      <td>5.5</td>\n",
       "      <td>956.9</td>\n",
       "      <td>861.2</td>\n",
       "      <td>56</td>\n",
       "      <td>0.749600</td>\n",
       "      <td>38.33</td>\n",
       "    </tr>\n",
       "    <tr>\n",
       "      <th>3</th>\n",
       "      <td>233.8</td>\n",
       "      <td>0.0</td>\n",
       "      <td>94.6</td>\n",
       "      <td>197.9</td>\n",
       "      <td>4.6</td>\n",
       "      <td>947.0</td>\n",
       "      <td>852.2</td>\n",
       "      <td>100</td>\n",
       "      <td>0.846450</td>\n",
       "      <td>34.56</td>\n",
       "    </tr>\n",
       "    <tr>\n",
       "      <th>4</th>\n",
       "      <td>350.0</td>\n",
       "      <td>0.0</td>\n",
       "      <td>0.0</td>\n",
       "      <td>186.0</td>\n",
       "      <td>0.0</td>\n",
       "      <td>1050.0</td>\n",
       "      <td>770.0</td>\n",
       "      <td>28</td>\n",
       "      <td>0.531429</td>\n",
       "      <td>34.29</td>\n",
       "    </tr>\n",
       "  </tbody>\n",
       "</table>\n",
       "</div>"
      ],
      "text/plain": [
       "   Cement  Blast_Furnace_Slag  Fly_Ash  Water  Superplasticizer  \\\n",
       "0   251.4                 0.0    118.3  188.5               6.4   \n",
       "1   339.0                 0.0      0.0  197.0               0.0   \n",
       "2   250.0                 0.0     95.7  187.4               5.5   \n",
       "3   233.8                 0.0     94.6  197.9               4.6   \n",
       "4   350.0                 0.0      0.0  186.0               0.0   \n",
       "\n",
       "   Coarse_Aggregate  Fine_Aggregate  Age  Water_Cement_Ratio  Strength  \n",
       "0            1028.4           757.7   56            0.749801     36.64  \n",
       "1             968.0           781.0    7            0.581121     20.97  \n",
       "2             956.9           861.2   56            0.749600     38.33  \n",
       "3             947.0           852.2  100            0.846450     34.56  \n",
       "4            1050.0           770.0   28            0.531429     34.29  "
      ]
     },
     "execution_count": 9,
     "metadata": {},
     "output_type": "execute_result"
    }
   ],
   "source": [
    "concrete_train.head()"
   ]
  },
  {
   "cell_type": "code",
   "execution_count": 15,
   "id": "3cd3d465",
   "metadata": {},
   "outputs": [],
   "source": [
    "from statsmodels.stats.outliers_influence import variance_inflation_factor\n",
    "\n",
    "def VIF(df, columns):\n",
    "    values = sm.add_constant(df[columns]).values\n",
    "    num_columns = len(columns)+1\n",
    "    vif = [variance_inflation_factor(values, i) for i in range(num_columns)]\n",
    "    return pd.Series(vif[1:], index=columns)"
   ]
  },
  {
   "cell_type": "markdown",
   "id": "8ff85f05",
   "metadata": {},
   "source": [
    "First, I will train our model using the R-style formulas."
   ]
  },
  {
   "cell_type": "code",
   "execution_count": 29,
   "id": "1b884dba",
   "metadata": {},
   "outputs": [
    {
     "name": "stdout",
     "output_type": "stream",
     "text": [
      "                            OLS Regression Results                            \n",
      "==============================================================================\n",
      "Dep. Variable:               Strength   R-squared:                       0.603\n",
      "Model:                            OLS   Adj. R-squared:                  0.598\n",
      "Method:                 Least Squares   F-statistic:                     119.9\n",
      "Date:                Thu, 21 Oct 2021   Prob (F-statistic):          3.55e-136\n",
      "Time:                        18:00:12   Log-Likelihood:                -2705.3\n",
      "No. Observations:                 721   AIC:                             5431.\n",
      "Df Residuals:                     711   BIC:                             5476.\n",
      "Df Model:                           9                                         \n",
      "Covariance Type:            nonrobust                                         \n",
      "======================================================================================\n",
      "                         coef    std err          t      P>|t|      [0.025      0.975]\n",
      "--------------------------------------------------------------------------------------\n",
      "Intercept            -31.5803     32.679     -0.966      0.334     -95.740      32.579\n",
      "Cement                 0.1143      0.013      8.791      0.000       0.089       0.140\n",
      "Blast_Furnace_Slag     0.0976      0.012      8.014      0.000       0.074       0.122\n",
      "Fly_Ash                0.0908      0.015      6.042      0.000       0.061       0.120\n",
      "Water                 -0.1075      0.051     -2.120      0.034      -0.207      -0.008\n",
      "Superplasticizer       0.3458      0.109      3.175      0.002       0.132       0.560\n",
      "Coarse_Aggregate       0.0207      0.011      1.811      0.071      -0.002       0.043\n",
      "Fine_Aggregate         0.0227      0.013      1.754      0.080      -0.003       0.048\n",
      "Age                    0.1082      0.006     17.218      0.000       0.096       0.121\n",
      "Water_Cement_Ratio    -2.8690      3.208     -0.894      0.372      -9.168       3.430\n",
      "==============================================================================\n",
      "Omnibus:                        2.607   Durbin-Watson:                   2.020\n",
      "Prob(Omnibus):                  0.272   Jarque-Bera (JB):                2.675\n",
      "Skew:                          -0.142   Prob(JB):                        0.263\n",
      "Kurtosis:                       2.907   Cond. No.                     1.09e+05\n",
      "==============================================================================\n",
      "\n",
      "Notes:\n",
      "[1] Standard Errors assume that the covariance matrix of the errors is correctly specified.\n",
      "[2] The condition number is large, 1.09e+05. This might indicate that there are\n",
      "strong multicollinearity or other numerical problems.\n"
     ]
    },
    {
     "name": "stderr",
     "output_type": "stream",
     "text": [
      "/opt/conda/lib/python3.9/site-packages/statsmodels/tsa/tsatools.py:142: FutureWarning: In a future version of pandas all arguments of concat except for the argument 'objs' will be keyword-only\n",
      "  x = pd.concat(x[::order], 1)\n"
     ]
    },
    {
     "data": {
      "text/plain": [
       "Cement                12.594748\n",
       "Blast_Furnace_Slag     7.480888\n",
       "Fly_Ash                6.089445\n",
       "Water                  7.596369\n",
       "Superplasticizer       2.937475\n",
       "Coarse_Aggregate       5.212360\n",
       "Fine_Aggregate         7.310910\n",
       "Age                    1.110141\n",
       "Water_Cement_Ratio     6.669677\n",
       "dtype: float64"
      ]
     },
     "execution_count": 29,
     "metadata": {},
     "output_type": "execute_result"
    }
   ],
   "source": [
    "model1= smf.ols(formula='Strength ~ Cement + Blast_Furnace_Slag + Fly_Ash + Water + Superplasticizer + Coarse_Aggregate + Fine_Aggregate + Age + Water_Cement_Ratio', \n",
    "                 data=concrete_train).fit()\n",
    "print(model1.summary())\n",
    "cols = ['Cement', 'Blast_Furnace_Slag', 'Fly_Ash', 'Water', 'Superplasticizer', 'Coarse_Aggregate', 'Fine_Aggregate', 'Age', 'Water_Cement_Ratio']\n",
    "VIF(concrete_train, cols)"
   ]
  },
  {
   "cell_type": "markdown",
   "id": "58de9e73",
   "metadata": {},
   "source": [
    "In order to narrow down our model, we can look at the VIFs or the p-values to help me select which independent variables I may need to remove. To narrow down the model, I should remove variables with VIFs > 5 or insignificant variables with p-values > 0.05."
   ]
  },
  {
   "cell_type": "markdown",
   "id": "33df6e3a",
   "metadata": {},
   "source": [
    "Based on the VIFs above, cement seems problematic since its VIF > 10. However, our p-values indicate that course aggregate, fine aggregate, and water to cement ratio are insignificant. I will remove variables one by one to observe the effect on the R-squared and adjusted r-squared value. We would like to maximize our r-squared value while still narrowing down our model. "
   ]
  },
  {
   "cell_type": "code",
   "execution_count": 20,
   "id": "ceda2372",
   "metadata": {},
   "outputs": [
    {
     "name": "stdout",
     "output_type": "stream",
     "text": [
      "                            OLS Regression Results                            \n",
      "==============================================================================\n",
      "Dep. Variable:               Strength   R-squared:                       0.560\n",
      "Model:                            OLS   Adj. R-squared:                  0.555\n",
      "Method:                 Least Squares   F-statistic:                     113.1\n",
      "Date:                Thu, 21 Oct 2021   Prob (F-statistic):          2.12e-121\n",
      "Time:                        17:53:55   Log-Likelihood:                -2742.5\n",
      "No. Observations:                 721   AIC:                             5503.\n",
      "Df Residuals:                     712   BIC:                             5544.\n",
      "Df Model:                           8                                         \n",
      "Covariance Type:            nonrobust                                         \n",
      "======================================================================================\n",
      "                         coef    std err          t      P>|t|      [0.025      0.975]\n",
      "--------------------------------------------------------------------------------------\n",
      "Intercept            184.1306     22.709      8.108      0.000     139.547     228.714\n",
      "Blast_Furnace_Slag     0.0278      0.010      2.860      0.004       0.009       0.047\n",
      "Fly_Ash               -0.0016      0.011     -0.140      0.889      -0.024       0.021\n",
      "Water                 -0.3006      0.048     -6.253      0.000      -0.395      -0.206\n",
      "Superplasticizer       0.2791      0.114      2.441      0.015       0.055       0.504\n",
      "Coarse_Aggregate      -0.0452      0.009     -4.997      0.000      -0.063      -0.027\n",
      "Fine_Aggregate        -0.0556      0.010     -5.609      0.000      -0.075      -0.036\n",
      "Age                    0.1039      0.007     15.761      0.000       0.091       0.117\n",
      "Water_Cement_Ratio   -20.3232      2.652     -7.664      0.000     -25.530     -15.117\n",
      "==============================================================================\n",
      "Omnibus:                        1.722   Durbin-Watson:                   2.006\n",
      "Prob(Omnibus):                  0.423   Jarque-Bera (JB):                1.793\n",
      "Skew:                          -0.113   Prob(JB):                        0.408\n",
      "Kurtosis:                       2.908   Cond. No.                     7.06e+04\n",
      "==============================================================================\n",
      "\n",
      "Notes:\n",
      "[1] Standard Errors assume that the covariance matrix of the errors is correctly specified.\n",
      "[2] The condition number is large, 7.06e+04. This might indicate that there are\n",
      "strong multicollinearity or other numerical problems.\n"
     ]
    },
    {
     "name": "stderr",
     "output_type": "stream",
     "text": [
      "/opt/conda/lib/python3.9/site-packages/statsmodels/tsa/tsatools.py:142: FutureWarning: In a future version of pandas all arguments of concat except for the argument 'objs' will be keyword-only\n",
      "  x = pd.concat(x[::order], 1)\n"
     ]
    },
    {
     "data": {
      "text/plain": [
       "Blast_Furnace_Slag    4.299342\n",
       "Fly_Ash               3.111559\n",
       "Water                 6.169571\n",
       "Superplasticizer      2.923183\n",
       "Coarse_Aggregate      2.962581\n",
       "Fine_Aggregate        3.858057\n",
       "Age                   1.103416\n",
       "Water_Cement_Ratio    4.115372\n",
       "dtype: float64"
      ]
     },
     "execution_count": 20,
     "metadata": {},
     "output_type": "execute_result"
    }
   ],
   "source": [
    "model2 = smf.ols(formula='Strength ~  Blast_Furnace_Slag + Fly_Ash + Water + Superplasticizer + Coarse_Aggregate + Fine_Aggregate + Age + Water_Cement_Ratio', \n",
    "                 data=concrete_train).fit()\n",
    "print(model2.summary())\n",
    "cols_2 = ['Blast_Furnace_Slag', 'Fly_Ash', 'Water', 'Superplasticizer', 'Coarse_Aggregate', 'Fine_Aggregate', 'Age', 'Water_Cement_Ratio']\n",
    "VIF(concrete_train, cols_2)"
   ]
  },
  {
   "cell_type": "markdown",
   "id": "6addfeea",
   "metadata": {},
   "source": [
    "Water has a high VIF (greater than 5), so I will remove water next."
   ]
  },
  {
   "cell_type": "code",
   "execution_count": 23,
   "id": "e97f0a24",
   "metadata": {},
   "outputs": [
    {
     "name": "stdout",
     "output_type": "stream",
     "text": [
      "                            OLS Regression Results                            \n",
      "==============================================================================\n",
      "Dep. Variable:               Strength   R-squared:                       0.535\n",
      "Model:                            OLS   Adj. R-squared:                  0.531\n",
      "Method:                 Least Squares   F-statistic:                     117.4\n",
      "Date:                Thu, 21 Oct 2021   Prob (F-statistic):          3.05e-114\n",
      "Time:                        17:55:24   Log-Likelihood:                -2761.8\n",
      "No. Observations:                 721   AIC:                             5540.\n",
      "Df Residuals:                     713   BIC:                             5576.\n",
      "Df Model:                           7                                         \n",
      "Covariance Type:            nonrobust                                         \n",
      "======================================================================================\n",
      "                         coef    std err          t      P>|t|      [0.025      0.975]\n",
      "--------------------------------------------------------------------------------------\n",
      "Intercept             52.8025      8.867      5.955      0.000      35.393      70.212\n",
      "Blast_Furnace_Slag     0.0637      0.008      7.913      0.000       0.048       0.079\n",
      "Fly_Ash                0.0329      0.010      3.243      0.001       0.013       0.053\n",
      "Superplasticizer       0.6818      0.097      7.033      0.000       0.491       0.872\n",
      "Coarse_Aggregate      -0.0027      0.006     -0.435      0.664      -0.015       0.009\n",
      "Fine_Aggregate        -0.0081      0.007     -1.244      0.214      -0.021       0.005\n",
      "Age                    0.0981      0.007     14.642      0.000       0.085       0.111\n",
      "Water_Cement_Ratio   -31.1876      2.056    -15.167      0.000     -35.225     -27.150\n",
      "==============================================================================\n",
      "Omnibus:                        2.033   Durbin-Watson:                   2.019\n",
      "Prob(Omnibus):                  0.362   Jarque-Bera (JB):                1.989\n",
      "Skew:                           0.129   Prob(JB):                        0.370\n",
      "Kurtosis:                       3.001   Cond. No.                     2.65e+04\n",
      "==============================================================================\n",
      "\n",
      "Notes:\n",
      "[1] Standard Errors assume that the covariance matrix of the errors is correctly specified.\n",
      "[2] The condition number is large, 2.65e+04. This might indicate that there are\n",
      "strong multicollinearity or other numerical problems.\n"
     ]
    },
    {
     "name": "stderr",
     "output_type": "stream",
     "text": [
      "/opt/conda/lib/python3.9/site-packages/statsmodels/tsa/tsatools.py:142: FutureWarning: In a future version of pandas all arguments of concat except for the argument 'objs' will be keyword-only\n",
      "  x = pd.concat(x[::order], 1)\n"
     ]
    },
    {
     "data": {
      "text/plain": [
       "Blast_Furnace_Slag    2.799356\n",
       "Fly_Ash               2.372857\n",
       "Superplasticizer      1.995456\n",
       "Coarse_Aggregate      1.287210\n",
       "Fine_Aggregate        1.596583\n",
       "Age                   1.081394\n",
       "Water_Cement_Ratio    2.349018\n",
       "dtype: float64"
      ]
     },
     "execution_count": 23,
     "metadata": {},
     "output_type": "execute_result"
    }
   ],
   "source": [
    "model3 = smf.ols(formula='Strength ~  Blast_Furnace_Slag + Fly_Ash + Superplasticizer + Coarse_Aggregate + Fine_Aggregate + Age + Water_Cement_Ratio', \n",
    "                 data=concrete_train).fit()\n",
    "print(model3.summary())\n",
    "cols_3 = ['Blast_Furnace_Slag', 'Fly_Ash', 'Superplasticizer', 'Coarse_Aggregate', 'Fine_Aggregate', 'Age', 'Water_Cement_Ratio']\n",
    "VIF(concrete_train, cols_3)"
   ]
  },
  {
   "cell_type": "markdown",
   "id": "d0f67587",
   "metadata": {},
   "source": [
    "All of the VIFs are now below 5, which is good. However, there are 2 variables -- coarse aggregate and fine aggregate, that have high p-values (greater than 0.05). I will remove these as well. "
   ]
  },
  {
   "cell_type": "code",
   "execution_count": 33,
   "id": "0c3a7ad9",
   "metadata": {},
   "outputs": [
    {
     "name": "stdout",
     "output_type": "stream",
     "text": [
      "                            OLS Regression Results                            \n",
      "==============================================================================\n",
      "Dep. Variable:               Strength   R-squared:                       0.534\n",
      "Model:                            OLS   Adj. R-squared:                  0.531\n",
      "Method:                 Least Squares   F-statistic:                     164.2\n",
      "Date:                Thu, 21 Oct 2021   Prob (F-statistic):          4.00e-116\n",
      "Time:                        18:20:07   Log-Likelihood:                -2762.5\n",
      "No. Observations:                 721   AIC:                             5537.\n",
      "Df Residuals:                     715   BIC:                             5565.\n",
      "Df Model:                           5                                         \n",
      "Covariance Type:            nonrobust                                         \n",
      "======================================================================================\n",
      "                         coef    std err          t      P>|t|      [0.025      0.975]\n",
      "--------------------------------------------------------------------------------------\n",
      "Intercept             44.3554      1.366     32.462      0.000      41.673      47.038\n",
      "Blast_Furnace_Slag     0.0694      0.006     10.781      0.000       0.057       0.082\n",
      "Fly_Ash                0.0376      0.009      4.015      0.000       0.019       0.056\n",
      "Superplasticizer       0.6365      0.088      7.230      0.000       0.464       0.809\n",
      "Age                    0.0995      0.007     15.102      0.000       0.087       0.112\n",
      "Water_Cement_Ratio   -32.3700      1.824    -17.750      0.000     -35.950     -28.790\n",
      "==============================================================================\n",
      "Omnibus:                        2.079   Durbin-Watson:                   2.014\n",
      "Prob(Omnibus):                  0.354   Jarque-Bera (JB):                1.974\n",
      "Skew:                           0.126   Prob(JB):                        0.373\n",
      "Kurtosis:                       3.045   Cond. No.                         632.\n",
      "==============================================================================\n",
      "\n",
      "Notes:\n",
      "[1] Standard Errors assume that the covariance matrix of the errors is correctly specified.\n"
     ]
    },
    {
     "name": "stderr",
     "output_type": "stream",
     "text": [
      "/opt/conda/lib/python3.9/site-packages/statsmodels/tsa/tsatools.py:142: FutureWarning: In a future version of pandas all arguments of concat except for the argument 'objs' will be keyword-only\n",
      "  x = pd.concat(x[::order], 1)\n"
     ]
    },
    {
     "data": {
      "text/plain": [
       "Blast_Furnace_Slag    1.793526\n",
       "Fly_Ash               2.032596\n",
       "Superplasticizer      1.646950\n",
       "Age                   1.047508\n",
       "Water_Cement_Ratio    1.848562\n",
       "dtype: float64"
      ]
     },
     "execution_count": 33,
     "metadata": {},
     "output_type": "execute_result"
    }
   ],
   "source": [
    "model4 = smf.ols(formula='Strength ~  Blast_Furnace_Slag + Fly_Ash + Superplasticizer  + Age + Water_Cement_Ratio', \n",
    "                 data=concrete_train).fit()\n",
    "print(model4.summary())\n",
    "cols_4 = ['Blast_Furnace_Slag', 'Fly_Ash', 'Superplasticizer', 'Age', 'Water_Cement_Ratio']\n",
    "VIF(concrete_train, cols_4)"
   ]
  },
  {
   "cell_type": "markdown",
   "id": "bbe927e5",
   "metadata": {},
   "source": [
    "Although I removed high VIFs one by one and then removed variables with high p-values, the resulting model has an R^2 and adjusted R^2 that is quite a bit lower than the original model1. I will try a different approach, where I remove the variables with high p-values first, and compare the two models on the train and test sets. Looking back at model1, which included all of the variables, coarse aggregate, fine aggregate, and water to cement ratio had high p-values. I will remove these 3 variables from the original model. "
   ]
  },
  {
   "cell_type": "code",
   "execution_count": 34,
   "id": "1e594d01",
   "metadata": {},
   "outputs": [
    {
     "name": "stdout",
     "output_type": "stream",
     "text": [
      "                            OLS Regression Results                            \n",
      "==============================================================================\n",
      "Dep. Variable:               Strength   R-squared:                       0.600\n",
      "Model:                            OLS   Adj. R-squared:                  0.597\n",
      "Method:                 Least Squares   F-statistic:                     178.7\n",
      "Date:                Thu, 21 Oct 2021   Prob (F-statistic):          1.50e-138\n",
      "Time:                        18:21:18   Log-Likelihood:                -2707.5\n",
      "No. Observations:                 721   AIC:                             5429.\n",
      "Df Residuals:                     714   BIC:                             5461.\n",
      "Df Model:                           6                                         \n",
      "Covariance Type:            nonrobust                                         \n",
      "======================================================================================\n",
      "                         coef    std err          t      P>|t|      [0.025      0.975]\n",
      "--------------------------------------------------------------------------------------\n",
      "Intercept             25.9785      5.115      5.079      0.000      15.936      36.021\n",
      "Cement                 0.1051      0.005     21.073      0.000       0.095       0.115\n",
      "Blast_Furnace_Slag     0.0770      0.006     13.050      0.000       0.065       0.089\n",
      "Fly_Ash                0.0693      0.009      7.495      0.000       0.051       0.087\n",
      "Water                 -0.1974      0.026     -7.710      0.000      -0.248      -0.147\n",
      "Superplasticizer       0.2787      0.098      2.830      0.005       0.085       0.472\n",
      "Age                    0.1082      0.006     17.305      0.000       0.096       0.121\n",
      "==============================================================================\n",
      "Omnibus:                        2.751   Durbin-Watson:                   2.022\n",
      "Prob(Omnibus):                  0.253   Jarque-Bera (JB):                2.828\n",
      "Skew:                          -0.141   Prob(JB):                        0.243\n",
      "Kurtosis:                       2.879   Cond. No.                     4.78e+03\n",
      "==============================================================================\n",
      "\n",
      "Notes:\n",
      "[1] Standard Errors assume that the covariance matrix of the errors is correctly specified.\n",
      "[2] The condition number is large, 4.78e+03. This might indicate that there are\n",
      "strong multicollinearity or other numerical problems.\n"
     ]
    },
    {
     "name": "stderr",
     "output_type": "stream",
     "text": [
      "/opt/conda/lib/python3.9/site-packages/statsmodels/tsa/tsatools.py:142: FutureWarning: In a future version of pandas all arguments of concat except for the argument 'objs' will be keyword-only\n",
      "  x = pd.concat(x[::order], 1)\n"
     ]
    },
    {
     "data": {
      "text/plain": [
       "Cement                1.848406\n",
       "Blast_Furnace_Slag    1.752002\n",
       "Fly_Ash               2.299993\n",
       "Water                 1.933888\n",
       "Superplasticizer      2.397385\n",
       "Age                   1.097979\n",
       "dtype: float64"
      ]
     },
     "execution_count": 34,
     "metadata": {},
     "output_type": "execute_result"
    }
   ],
   "source": [
    "model2_2= smf.ols(formula='Strength ~ Cement + Blast_Furnace_Slag + Fly_Ash + Water + Superplasticizer + Age', \n",
    "                 data=concrete_train).fit()\n",
    "print(model2_2.summary())\n",
    "cols_5 = ['Cement', 'Blast_Furnace_Slag', 'Fly_Ash', 'Water', 'Superplasticizer', 'Age']\n",
    "VIF(concrete_train, cols_5)"
   ]
  },
  {
   "cell_type": "code",
   "execution_count": 27,
   "id": "02c31e91",
   "metadata": {},
   "outputs": [],
   "source": [
    "# compute out-of-sample R-squared using the test set\n",
    "def OSR2(model, df_train, df_test, dependent_var):   \n",
    "    y_test = df_test[dependent_var]\n",
    "    y_pred = model.predict(df_test)\n",
    "    SSE = np.sum((y_test - y_pred)**2)\n",
    "    SST = np.sum((y_test - np.mean(df_train[dependent_var]))**2)    \n",
    "    return 1 - (SSE/SST)"
   ]
  },
  {
   "cell_type": "code",
   "execution_count": 28,
   "id": "38ecf068",
   "metadata": {},
   "outputs": [
    {
     "data": {
      "text/plain": [
       "0.6240291836899139"
      ]
     },
     "execution_count": 28,
     "metadata": {},
     "output_type": "execute_result"
    }
   ],
   "source": [
    "OSR2(model4, concrete_train, concrete_test, 'Strength') #removed Cement, Water, Coarse Aggregate, Fine Aggregate"
   ]
  },
  {
   "cell_type": "code",
   "execution_count": 32,
   "id": "a1cd1e36",
   "metadata": {},
   "outputs": [
    {
     "data": {
      "text/plain": [
       "0.6340412339529531"
      ]
     },
     "execution_count": 32,
     "metadata": {},
     "output_type": "execute_result"
    }
   ],
   "source": [
    "OSR2(model2_2, concrete_train, concrete_test, 'Strength') #removed Coarse Aggregate, Fine Aggregate, Water_Cement_Ratio\n"
   ]
  },
  {
   "cell_type": "markdown",
   "id": "34b06aeb",
   "metadata": {},
   "source": [
    "Overall, I tried two overarching approaches and compared them. First, I decided to remove all variables (one by one) that had VIF values greater than 5, starting from the largest VIF value and working down. For model2, I removed cement, which had a VIF > 10. I then removed water, which had a VIF > 5. After that, all of my remaining VIFs were below 5, so I removed insignificant variables with p-values > 0.05, like coarse aggregate and fine aggregate, which was my model4. This ended up reducing the R^2 by a lot; it decreased from 0.603 in model1 to 0.534 in model4, which indicates that the overall quality of the model decreased and that model4 is a worse fit to the training data. I then used OSR^2 to evaluate the model on the test set. The OSR^2 value for model4 was 0.624. \n",
    "\n",
    "In my second approach, I decided to start by removing variables with high p-values (greater than 0.05) first, so I removed coarse aggregate, fine aggregate, and water to cement ratio, which gave me my model2_2. This resulted in a model with VIFs lower than 5 for the remaining variables, and low p-values. In addition, the R^2 for this model was closer to the initial R^2 -- 0.600, which means model2_2 was a better fit ot the training data than model4. Additionally, the OSR^2 for model2_2 was 0.634, making it higher than the OSR^2 for model4. \n",
    "\n",
    "Thus, model2_2 is a better fit for the training and test data than model4 because of its higher R^2 and OSR^2 values respectively. This means that for this dataset, it was more appropriate to remove variables with high p-values rather than starting with the VIFs."
   ]
  },
  {
   "cell_type": "code",
   "execution_count": null,
   "id": "aa670237",
   "metadata": {},
   "outputs": [],
   "source": []
  }
 ],
 "metadata": {
  "kernelspec": {
   "display_name": "Python 3 (ipykernel)",
   "language": "python",
   "name": "python3"
  },
  "language_info": {
   "codemirror_mode": {
    "name": "ipython",
    "version": 3
   },
   "file_extension": ".py",
   "mimetype": "text/x-python",
   "name": "python",
   "nbconvert_exporter": "python",
   "pygments_lexer": "ipython3",
   "version": "3.9.7"
  }
 },
 "nbformat": 4,
 "nbformat_minor": 5
}
